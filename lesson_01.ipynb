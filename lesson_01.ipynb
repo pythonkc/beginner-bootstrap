{
 "cells": [
  {
   "cell_type": "markdown",
   "metadata": {},
   "source": [
    "# Beginner Bootstrap Lesson 1: Basic types, collections, and flow control\n",
    "\n",
    "## `Hello, world!`\n",
    "\n",
    "For some reason, the first program people write when learning a new programming language displays _Hello, world!_ on the screen. If you are curious as to why this is so, I'm sure you could learn the reasons with a well-formed _Google_ search. In Python, this program at it's most basic would look like this:"
   ]
  },
  {
   "cell_type": "code",
   "execution_count": null,
   "metadata": {
    "collapsed": true
   },
   "outputs": [],
   "source": [
    "#!/usr/bin/env python3\n",
    "\"\"\"A program to print 'Hello, world!'\"\"\"\n",
    "print(\"Hello, world!\")"
   ]
  }
 ],
 "metadata": {
  "kernelspec": {
   "display_name": "Python 3",
   "language": "python",
   "name": "python3"
  },
  "language_info": {
   "codemirror_mode": {
    "name": "ipython",
    "version": 3
   },
   "file_extension": ".py",
   "mimetype": "text/x-python",
   "name": "python",
   "nbconvert_exporter": "python",
   "pygments_lexer": "ipython3",
   "version": "3.4.3"
  }
 },
 "nbformat": 4,
 "nbformat_minor": 0
}
